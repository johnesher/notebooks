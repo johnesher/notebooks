{
 "cells": [
  {
   "cell_type": "code",
   "execution_count": 122,
   "metadata": {},
   "outputs": [],
   "source": [
    "import glob\n",
    "import os\n",
    "import string\n",
    "import collections\n",
    "import shutil"
   ]
  },
  {
   "cell_type": "code",
   "execution_count": 172,
   "metadata": {},
   "outputs": [
    {
     "data": {
      "text/plain": [
       "'\\\\\\\\ata-fs1\\\\atalanta\\\\acl\\\\Tactiq\\\\Clients\\\\Keeler\\\\Projects\\\\TonoPuff\\\\**\\\\*.xlsx'"
      ]
     },
     "execution_count": 172,
     "metadata": {},
     "output_type": "execute_result"
    }
   ],
   "source": [
    "fp = r'\\\\ata-fs1\\atalanta\\acl\\Tactiq\\Clients\\Keeler\\Projects\\TonoPuff\\**\\*.xlsx'\n",
    "fp"
   ]
  },
  {
   "cell_type": "code",
   "execution_count": 173,
   "metadata": {},
   "outputs": [],
   "source": [
    "# for filename in glob.iglob(fp, recursive=True):\n",
    "#     print(filename)\n",
    "files = glob.glob(fp, recursive=True)    "
   ]
  },
  {
   "cell_type": "code",
   "execution_count": 174,
   "metadata": {},
   "outputs": [],
   "source": [
    "def filename(t):\n",
    "    n,e = os.path.splitext(os.path.basename(t))\n",
    "    return n\n",
    "\n",
    "def ends_in_digit(t):\n",
    "    n = filename(t)\n",
    "    return n[-1].isdigit()\n",
    "\n",
    "def ends_in_digit_alpha(t):\n",
    "    n = filename(t)\n",
    "    return n[-2].isdigit() and n[-1].isalpha()\n",
    "    \n",
    "counter = collections.Counter()\n",
    "def count_it(t):\n",
    "    \"\"\"closure\"\"\"\n",
    "    counter[t] += 1\n",
    "\n",
    "len(files)\n",
    "no_phase = [f for f in files if 'phase_information' not in f.lower()]\n",
    "no_shipping = [f for f in no_phase if 'shipping' not in f.lower()]\n",
    "no_deliveries = [f for f in no_shipping if 'deliveries' not in f.lower()]\n",
    "no_archive = [f for f in no_deliveries if 'archive' not in f.lower()]\n",
    "no_sgs = [f for f in no_archive if 'sgs' not in f.lower()]\n",
    "no_team = [f for f in no_sgs if 'team area' not in f.lower()]\n",
    "no_share = [f for f in no_team if '_share_dir_' not in f.lower()]\n",
    "no_mm = [f for f in no_share if 'm-mark' not in f.lower()]\n",
    "no_meet = [f for f in no_mm if 'meetings' not in f.lower()]\n",
    "no_actions = [f for f in no_meet if 'review_actions' not in f.lower()]\n",
    "no_projectname = [f for f in no_actions if 'projectname' not in f.lower()]\n",
    "no_released = [f for f in no_projectname if 'released documents' not in f.lower()]\n",
    "no_tiq = [f for f in no_released if 'tiq_' not in f.lower()]\n",
    "#\n",
    "# temporarily lose reports and releases as they are archived\n",
    "#\n",
    "#no_releases = [f for f in no_tiq if 'report' not in f.lower()]\n",
    "#no_reports = [f for f in no_releases if 'releases' not in f.lower()]\n",
    "#\n",
    "# has_releases = [f for f in no_tiq if 'release' in f.lower()]\n",
    "# has_report = [f for f in no_tiq if 'report' in f.lower()]\n",
    "ends_digit = [f for f in no_tiq if ends_in_digit(f)]\n",
    "#_ = [count_it(f) for f in ends_digit]  # fails\n",
    "ends_dig_alp = [f for f in no_reports if ends_in_digit_alpha(f)]"
   ]
  },
  {
   "cell_type": "code",
   "execution_count": 175,
   "metadata": {},
   "outputs": [
    {
     "name": "stdout",
     "output_type": "stream",
     "text": [
      "7\n",
      "15\n"
     ]
    },
    {
     "data": {
      "text/plain": [
       "['\\\\\\\\ata-fs1\\\\atalanta\\\\acl\\\\Tactiq\\\\Clients\\\\Keeler\\\\Projects\\\\TonoPuff\\\\Hardware\\\\PCBs\\\\TMB\\\\QD34548D\\\\TMB_BOM_23DEC2016.xlsx',\n",
       " '\\\\\\\\ata-fs1\\\\atalanta\\\\acl\\\\Tactiq\\\\Clients\\\\Keeler\\\\Projects\\\\TonoPuff\\\\Hardware\\\\PCBs\\\\TMB\\\\QD3458C-1\\\\TMB_BOM_22DEC2016.xlsx',\n",
       " '\\\\\\\\ata-fs1\\\\atalanta\\\\acl\\\\Tactiq\\\\Clients\\\\Keeler\\\\Projects\\\\TonoPuff\\\\Hardware\\\\PCBs\\\\TMB\\\\QD3458C_25OCT2016\\\\TMB_BOM_21OCT2016.xlsx',\n",
       " '\\\\\\\\ata-fs1\\\\atalanta\\\\acl\\\\Tactiq\\\\Clients\\\\Keeler\\\\Projects\\\\TonoPuff\\\\Hardware\\\\PCBs\\\\TMB\\\\QD34548D-1_27JAN2017\\\\TMB_BOM_27JAN2017.xlsx',\n",
       " '\\\\\\\\ata-fs1\\\\atalanta\\\\acl\\\\Tactiq\\\\Clients\\\\Keeler\\\\Projects\\\\TonoPuff\\\\Software\\\\TonoPuff Error Codes as at release 2.0.xlsx',\n",
       " '\\\\\\\\ata-fs1\\\\atalanta\\\\acl\\\\Tactiq\\\\Clients\\\\Keeler\\\\Projects\\\\TonoPuff\\\\Status\\\\TonoPuff_ProjectStatusReport_7Dec2017.xlsx',\n",
       " '\\\\\\\\ata-fs1\\\\atalanta\\\\acl\\\\Tactiq\\\\Clients\\\\Keeler\\\\Projects\\\\TonoPuff\\\\Status\\\\TonoPuff_ProjectStatusReport_30Nov2017.xlsx',\n",
       " '\\\\\\\\ata-fs1\\\\atalanta\\\\acl\\\\Tactiq\\\\Clients\\\\Keeler\\\\Projects\\\\TonoPuff\\\\PCB Design\\\\PCB Modification State Tracker_3.4.xlsx',\n",
       " '\\\\\\\\ata-fs1\\\\atalanta\\\\acl\\\\Tactiq\\\\Clients\\\\Keeler\\\\Projects\\\\TonoPuff\\\\Reviews\\\\Review_Record_for_Filename_template1.6.xlsx',\n",
       " '\\\\\\\\ata-fs1\\\\atalanta\\\\acl\\\\Tactiq\\\\Clients\\\\Keeler\\\\Projects\\\\TonoPuff\\\\Reviews\\\\Review_Record_for_TonoCare_Software_Release_Note_1.6.2745.xlsx',\n",
       " '\\\\\\\\ata-fs1\\\\atalanta\\\\acl\\\\Tactiq\\\\Clients\\\\Keeler\\\\Projects\\\\TonoPuff\\\\Reviews\\\\TonoPuff_Dock\\\\Review_Record_for_Filename_1.3.xlsx',\n",
       " '\\\\\\\\ata-fs1\\\\atalanta\\\\acl\\\\Tactiq\\\\Clients\\\\Keeler\\\\Projects\\\\TonoPuff\\\\Hazard Analysis\\\\TonoPuff_Essential_Components_List_1.2.xlsx',\n",
       " '\\\\\\\\ata-fs1\\\\atalanta\\\\acl\\\\Tactiq\\\\Clients\\\\Keeler\\\\Projects\\\\TonoPuff\\\\Hazard Analysis\\\\DRAFT Desktop IntelliPuff and TonoPuff Risk Assessment Table - Issue 12.xlsx',\n",
       " '\\\\\\\\ata-fs1\\\\atalanta\\\\acl\\\\Tactiq\\\\Clients\\\\Keeler\\\\Projects\\\\TonoPuff\\\\Hazard Analysis\\\\18032017 DRAFT Desktop IntelliPuff and TonoPuff Risk Assessment Table - Issue 12.xlsx',\n",
       " '\\\\\\\\ata-fs1\\\\atalanta\\\\acl\\\\Tactiq\\\\Clients\\\\Keeler\\\\Projects\\\\TonoPuff\\\\Client Documents\\\\Templates sent to Tactiq 20150408\\\\PR31 Reference 3 Risk Assessment Table issue 3.xlsx']"
      ]
     },
     "execution_count": 175,
     "metadata": {},
     "output_type": "execute_result"
    }
   ],
   "source": [
    "print(len(ends_dig_alp))\n",
    "print(len(ends_digit))\n",
    "ends_digit"
   ]
  },
  {
   "cell_type": "code",
   "execution_count": 128,
   "metadata": {},
   "outputs": [
    {
     "data": {
      "text/plain": [
       "['TonoCare_Dock_Printer_Software_Release_Note',\n",
       " 'QD3546B_Modification',\n",
       " 'Keeler_2418_P_5030_01_Mod_Set_1',\n",
       " 'TonoPuff System Test Procedure',\n",
       " 'TonoPuff_Calibrator_Unit_Test_Procedure',\n",
       " 'TonoPuff_End_of_Line_Test_Procedure',\n",
       " 'TonoPuff_Golden_Mode_Test_Procedure',\n",
       " 'TonoPuff_Usability_Engineering_Plan',\n",
       " 'Keeler_CE_Software_Plan',\n",
       " 'TonoPuff_Pressure_Calibration_Software_Design',\n",
       " 'TonoPuff_System_Architecture',\n",
       " 'TonoPuff_Calibration_Device_Electronics_Design',\n",
       " 'TonoPuff_Electronics_Design',\n",
       " 'TonoPuff_Pressure_Calibration_Command_Specification',\n",
       " 'TonoPuff_Software_Design',\n",
       " 'TonoPuff_Pressure_Calibration_Electronics_Requirements',\n",
       " 'TonoPuff_Electronics_Requirements',\n",
       " 'TonoPuff_Software_Requirements',\n",
       " 'TonoPuff_Pressure_Calibration_Software_Requirements']"
      ]
     },
     "execution_count": 128,
     "metadata": {},
     "output_type": "execute_result"
    }
   ],
   "source": [
    "def new_folder(t):\n",
    "    p, fn = os.path.split(t)\n",
    "    return '_'.join(fn.split('_')[:-1])\n",
    "new_folders = [new_folder(f) for f in ends_digit[:]]\n",
    "new_folders"
   ]
  },
  {
   "cell_type": "code",
   "execution_count": 129,
   "metadata": {},
   "outputs": [],
   "source": [
    "target_folder = r'\\\\ata-fs1\\atalanta\\acl\\Tactiq\\Clients\\Keeler\\Projects\\TonoPuff\\Released Documents'\n",
    "# for f in new_folders:\n",
    "#     try:\n",
    "#         os.mkdir(os.path.join(target_folder, f))\n",
    "#     except FileExistsError:\n",
    "#         continue\n",
    "\n",
    "# for f in ends_digit:\n",
    "#     dest = os.path.join(target_folder, new_folder(f))\n",
    "#     shutil.copy2(f, dest)\n"
   ]
  },
  {
   "cell_type": "code",
   "execution_count": 171,
   "metadata": {
    "collapsed": true
   },
   "outputs": [
    {
     "data": {
      "text/plain": [
       "['\\\\\\\\ata-fs1\\\\atalanta\\\\acl\\\\Tactiq\\\\Clients\\\\Keeler\\\\Projects\\\\TonoPuff\\\\Dock\\\\Archive\\\\Dock_SW_Review_Actions_09_05_2017.docx',\n",
       " '\\\\\\\\ata-fs1\\\\atalanta\\\\acl\\\\Tactiq\\\\Clients\\\\Keeler\\\\Projects\\\\TonoPuff\\\\Dock\\\\Archive\\\\Dock_SW_Review_Actions_09_05_2017_TT_update_1.0.docx',\n",
       " '\\\\\\\\ata-fs1\\\\atalanta\\\\acl\\\\Tactiq\\\\Clients\\\\Keeler\\\\Projects\\\\TonoPuff\\\\Dock\\\\Archive\\\\TIQ_XXXX__Software_Release_Note_1.0.docx',\n",
       " '\\\\\\\\ata-fs1\\\\atalanta\\\\acl\\\\Tactiq\\\\Clients\\\\Keeler\\\\Projects\\\\TonoPuff\\\\Software\\\\Tools\\\\BuildEnvironment\\\\Archive\\\\TonoPuff_Software_Build_Environment_Setup_1.0.docx',\n",
       " '\\\\\\\\ata-fs1\\\\atalanta\\\\acl\\\\Tactiq\\\\Clients\\\\Keeler\\\\Projects\\\\TonoPuff\\\\Software\\\\Releases\\\\TonoCareSW\\\\TPS 1.7.2828\\\\Archive\\\\TonoCare_Software_Candidate_Cover_Note_1.7.2796.docx',\n",
       " '\\\\\\\\ata-fs1\\\\atalanta\\\\acl\\\\Tactiq\\\\Clients\\\\Keeler\\\\Projects\\\\TonoPuff\\\\Software\\\\Releases\\\\TonoCareSW\\\\TPS 1.8.3043\\\\Archive\\\\TonoCare_Software_Candidate_Cover_Note_1.7.2796.docx',\n",
       " '\\\\\\\\ata-fs1\\\\atalanta\\\\acl\\\\Tactiq\\\\Clients\\\\Keeler\\\\Projects\\\\TonoPuff\\\\Software\\\\Archive\\\\TIQ_9360 TonoPuff Software Release Procedure 1.0.docx',\n",
       " '\\\\\\\\ata-fs1\\\\atalanta\\\\acl\\\\Tactiq\\\\Clients\\\\Keeler\\\\Projects\\\\TonoPuff\\\\Software\\\\Archive\\\\TIQ_8587 TonoPuff_Software_Build_Environment_Setup_1.0.docx',\n",
       " '\\\\\\\\ata-fs1\\\\atalanta\\\\acl\\\\Tactiq\\\\Clients\\\\Keeler\\\\Projects\\\\TonoPuff\\\\Test\\\\Archive\\\\TonoPuff System Test Procedure_2.9.docx',\n",
       " '\\\\\\\\ata-fs1\\\\atalanta\\\\acl\\\\Tactiq\\\\Clients\\\\Keeler\\\\Projects\\\\TonoPuff\\\\Test\\\\Archive\\\\TIQ_XXXX_ProjectName_Release_Test_Plan_1.3.docx',\n",
       " '\\\\\\\\ata-fs1\\\\atalanta\\\\acl\\\\Tactiq\\\\Clients\\\\Keeler\\\\Projects\\\\TonoPuff\\\\Test\\\\Archive\\\\TIQ_XXXX_ProjectName_Release_Test_Plan_template1.4.docx',\n",
       " '\\\\\\\\ata-fs1\\\\atalanta\\\\acl\\\\Tactiq\\\\Clients\\\\Keeler\\\\Projects\\\\TonoPuff\\\\Test\\\\System Verification Reports\\\\Archive\\\\WIP_2017_09-01-TPS-1.7.2796.0_TonoPuff System Test Procedure_2.11.docx',\n",
       " '\\\\\\\\ata-fs1\\\\atalanta\\\\acl\\\\Tactiq\\\\Clients\\\\Keeler\\\\Projects\\\\TonoPuff\\\\Design Documents\\\\Archive\\\\TonoPuff_Calibration_Software_Design_1.0.docx',\n",
       " '\\\\\\\\ata-fs1\\\\atalanta\\\\acl\\\\Tactiq\\\\Clients\\\\Keeler\\\\Projects\\\\TonoPuff\\\\Requirements\\\\Archive\\\\TonoPuff_Golden_Unit_Software_Requirements_1.0.docx',\n",
       " '\\\\\\\\ata-fs1\\\\atalanta\\\\acl\\\\Tactiq\\\\Clients\\\\Keeler\\\\Projects\\\\TonoPuff\\\\Requirements\\\\Archive\\\\TonoPuff_Pressure_Calibration_Electronics_Requirements_1.0.docx',\n",
       " '\\\\\\\\ata-fs1\\\\atalanta\\\\acl\\\\Tactiq\\\\Clients\\\\Keeler\\\\Projects\\\\TonoPuff\\\\Requirements\\\\Archive\\\\TonoPuff_Software_Requirements_2.0.docx',\n",
       " '\\\\\\\\ata-fs1\\\\atalanta\\\\acl\\\\Tactiq\\\\Clients\\\\Keeler\\\\Projects\\\\TonoPuff\\\\Requirements\\\\Archive\\\\TonoPuff_Pressure_Calibration_Software_Requirements_2.1.docx',\n",
       " '\\\\\\\\ata-fs1\\\\atalanta\\\\acl\\\\Tactiq\\\\Clients\\\\Keeler\\\\Projects\\\\TonoPuff\\\\PCB Design\\\\Archive\\\\TIQ_8581_Tonopuff_PCB_Layout_Guidelines_v1.0.docx',\n",
       " '\\\\\\\\ata-fs1\\\\atalanta\\\\acl\\\\Tactiq\\\\Clients\\\\Keeler\\\\Projects\\\\TonoPuff\\\\PCB Design\\\\Archive\\\\TIQ_8581_Tonopuff_PCB_Layout_Guidelines_2.0.docx',\n",
       " '\\\\\\\\ata-fs1\\\\atalanta\\\\acl\\\\Tactiq\\\\Clients\\\\Keeler\\\\Projects\\\\TonoPuff\\\\Hazard Analysis\\\\Archive\\\\Risk Management Template_0.2.docx',\n",
       " '\\\\\\\\ata-fs1\\\\atalanta\\\\acl\\\\Tactiq\\\\Clients\\\\Keeler\\\\Projects\\\\TonoPuff\\\\Hazard Analysis\\\\Archive\\\\Project Name_Risk Management Template_0.3.docx',\n",
       " '\\\\\\\\ata-fs1\\\\atalanta\\\\acl\\\\Tactiq\\\\Clients\\\\Keeler\\\\Projects\\\\TonoPuff\\\\Deliverables\\\\Archive\\\\TIQ_XXXX_ProjName_Deliverables_v1.0.docx',\n",
       " '\\\\\\\\ata-fs1\\\\atalanta\\\\acl\\\\Tactiq\\\\Clients\\\\Keeler\\\\Projects\\\\TonoPuff\\\\Archive\\\\TIQ_XXXX_ProjectName_Document_template1.3.docx',\n",
       " '\\\\\\\\ata-fs1\\\\atalanta\\\\acl\\\\Tactiq\\\\Clients\\\\Keeler\\\\Projects\\\\TonoPuff\\\\Archive\\\\TIQ_XXXX_ProjectName_Document_template1.4.docx']"
      ]
     },
     "execution_count": 171,
     "metadata": {},
     "output_type": "execute_result"
    }
   ],
   "source": [
    "ed = [f for f in files if ends_in_digit(f)]\n",
    "ed\n",
    "# no_phase = [f for f in files if 'phase_information' not in f.lower()]\n",
    "# no_shipping = [f for f in no_phase if 'shipping' not in f.lower()]\n",
    "no_deliveries = [f for f in files if 'deliveries' not in f.lower()]\n",
    "#no_archive = [f for f in no_deliveries if 'archive' not in f.lower()]\n",
    "no_sgs = [f for f in no_deliveries if 'sgs documents' not in f.lower()]\n",
    "# no_team = [f for f in no_sgs if 'team area' not in f.lower()]\n",
    "# no_share = [f for f in no_team if '_share_dir_' not in f.lower()]\n",
    "# no_mm = [f for f in no_share if 'm-mark' not in f.lower()]\n",
    "# no_meet = [f for f in no_mm if 'meetings' not in f.lower()]\n",
    "# no_actions = [f for f in no_meet if 'review_actions' not in f.lower()]\n",
    "# no_projectname = [f for f in no_actions if 'projectname' not in f.lower()]\n",
    "# no_released = [f for f in no_projectname if 'released documents' not in f.lower()]\n",
    "# no_tiq = [f for f in no_released if 'tiq_' not in f.lower()]\n",
    "no_released_docs = [f for f in no_sgs if 'released documents' not in f.lower()]\n",
    "has_archive = [f for f in no_released_docs if 'archive' in f.lower()]\n",
    "[f for f in has_archive if ends_in_digit(f)]"
   ]
  },
  {
   "cell_type": "code",
   "execution_count": 176,
   "metadata": {},
   "outputs": [
    {
     "data": {
      "text/plain": [
       "['\\\\\\\\ata-fs1\\\\atalanta\\\\acl\\\\Tactiq\\\\Clients\\\\Keeler\\\\Projects\\\\TonoPuff\\\\Deliveries\\\\Phase_4\\\\BOM Costing Estimate_3.0.xlsx',\n",
       " '\\\\\\\\ata-fs1\\\\atalanta\\\\acl\\\\Tactiq\\\\Clients\\\\Keeler\\\\Projects\\\\TonoPuff\\\\Deliveries\\\\Misc\\\\Delivered\\\\Zip files sent to Aditi, Marek & Roni 23_Dec_2016\\\\Datapack_differences.xlsx',\n",
       " '\\\\\\\\ata-fs1\\\\atalanta\\\\acl\\\\Tactiq\\\\Clients\\\\Keeler\\\\Projects\\\\TonoPuff\\\\Deliveries\\\\Misc\\\\Delivered\\\\24May2017\\\\Dock\\\\Reviews\\\\Review_Record_for_TonoCare Printer Firmware Build Procedure.xlsx',\n",
       " '\\\\\\\\ata-fs1\\\\atalanta\\\\acl\\\\Tactiq\\\\Clients\\\\Keeler\\\\Projects\\\\TonoPuff\\\\Deliveries\\\\Misc\\\\Delivered\\\\24May2017\\\\TonoCare\\\\Reviews\\\\Review_Record_for_TonoPuff_Software_Quality_Plan.xlsx',\n",
       " '\\\\\\\\ata-fs1\\\\atalanta\\\\acl\\\\Tactiq\\\\Clients\\\\Keeler\\\\Projects\\\\TonoPuff\\\\Deliveries\\\\Misc\\\\Delivered\\\\24May2017\\\\TonoCare\\\\Reviews\\\\Review_Record_for_TonoPuff_Software_Requirements.xlsx',\n",
       " '\\\\\\\\ata-fs1\\\\atalanta\\\\acl\\\\Tactiq\\\\Clients\\\\Keeler\\\\Projects\\\\TonoPuff\\\\Deliveries\\\\Misc\\\\Delivered\\\\24May2017\\\\TonoCare\\\\Reviews\\\\Review_Record_for_Tonopuff _System_Test_Procedure.xlsx',\n",
       " '\\\\\\\\ata-fs1\\\\atalanta\\\\acl\\\\Tactiq\\\\Clients\\\\Keeler\\\\Projects\\\\TonoPuff\\\\Deliveries\\\\Misc\\\\Delivered\\\\22May2017\\\\TonoCare_Documents_22May2017\\\\TonoPuff_Essential_Components_List_1.2.xlsx',\n",
       " '\\\\\\\\ata-fs1\\\\atalanta\\\\acl\\\\Tactiq\\\\Clients\\\\Keeler\\\\Projects\\\\TonoPuff\\\\Deliveries\\\\Misc\\\\Delivered\\\\22May2017\\\\TonoCare_Reviews_22May2017\\\\Review_Record_for_Essential_Components_List.xlsx',\n",
       " '\\\\\\\\ata-fs1\\\\atalanta\\\\acl\\\\Tactiq\\\\Clients\\\\Keeler\\\\Projects\\\\TonoPuff\\\\Deliveries\\\\Misc\\\\Delivered\\\\22May2017\\\\TonoCare_Reviews_22May2017\\\\Review_Record_for_TonoCare_Software_Release_Note_1.3.2660.xlsx',\n",
       " '\\\\\\\\ata-fs1\\\\atalanta\\\\acl\\\\Tactiq\\\\Clients\\\\Keeler\\\\Projects\\\\TonoPuff\\\\Deliveries\\\\Misc\\\\Delivered\\\\22May2017\\\\TonoCare_Reviews_22May2017\\\\TonoPuff_Main\\\\Review_Record_for_Tonopuff _Software_Design.xlsx',\n",
       " '\\\\\\\\ata-fs1\\\\atalanta\\\\acl\\\\Tactiq\\\\Clients\\\\Keeler\\\\Projects\\\\TonoPuff\\\\Deliveries\\\\Misc\\\\Delivered\\\\22May2017\\\\TonoCare_Reviews_22May2017\\\\TonoPuff_Main\\\\Review_Record_for_TonoPuff_Software_Requirements.xlsx',\n",
       " '\\\\\\\\ata-fs1\\\\atalanta\\\\acl\\\\Tactiq\\\\Clients\\\\Keeler\\\\Projects\\\\TonoPuff\\\\Deliveries\\\\Misc\\\\Delivered\\\\22May2017\\\\TonoCare_Reviews_22May2017\\\\TonoPuff_Main\\\\Review_Record_for_TonoPuff_System_Architecture.xlsx',\n",
       " '\\\\\\\\ata-fs1\\\\atalanta\\\\acl\\\\Tactiq\\\\Clients\\\\Keeler\\\\Projects\\\\TonoPuff\\\\Deliveries\\\\Misc\\\\Delivered\\\\22May2017\\\\TonoCare_Reviews_22May2017\\\\TonoPuff_Main\\\\Review_Record_for_TonoPuff_Usability_Engineering_Plan.xlsx',\n",
       " '\\\\\\\\ata-fs1\\\\atalanta\\\\acl\\\\Tactiq\\\\Clients\\\\Keeler\\\\Projects\\\\TonoPuff\\\\Deliveries\\\\Misc\\\\Delivered\\\\22May2017\\\\TonoCare_Reviews_22May2017\\\\TonoPuff_Main\\\\Review_Record_for_TonoPuff_Usability_Specification.xlsx',\n",
       " '\\\\\\\\ata-fs1\\\\atalanta\\\\acl\\\\Tactiq\\\\Clients\\\\Keeler\\\\Projects\\\\TonoPuff\\\\Deliveries\\\\Misc\\\\Delivered\\\\22May2017\\\\TonoCare_Reviews_22May2017\\\\TonoPuff_Main\\\\Review_Record_for_TonoPuff_APP_LED_Cable_Drawing.xlsx',\n",
       " '\\\\\\\\ata-fs1\\\\atalanta\\\\acl\\\\Tactiq\\\\Clients\\\\Keeler\\\\Projects\\\\TonoPuff\\\\Deliveries\\\\Misc\\\\Delivered\\\\22May2017\\\\TonoCare_Reviews_22May2017\\\\TonoPuff_Main\\\\Review_Record_for_TonoPuff _PCB_Layout_Guidelines.xlsx',\n",
       " '\\\\\\\\ata-fs1\\\\atalanta\\\\acl\\\\Tactiq\\\\Clients\\\\Keeler\\\\Projects\\\\TonoPuff\\\\Deliveries\\\\Misc\\\\Delivered\\\\22May2017\\\\TonoCare_Reviews_22May2017\\\\TonoPuff_Main\\\\Review_Record_for_TonoPuff_Electronics_Design.xlsx',\n",
       " '\\\\\\\\ata-fs1\\\\atalanta\\\\acl\\\\Tactiq\\\\Clients\\\\Keeler\\\\Projects\\\\TonoPuff\\\\Deliveries\\\\Misc\\\\Delivered\\\\22May2017\\\\TonoCare_Reviews_22May2017\\\\TonoPuff_Main\\\\Review_Record_for_TonoPuff _Schematics.xlsx',\n",
       " '\\\\\\\\ata-fs1\\\\atalanta\\\\acl\\\\Tactiq\\\\Clients\\\\Keeler\\\\Projects\\\\TonoPuff\\\\Deliveries\\\\Misc\\\\Delivered\\\\22May2017\\\\TonoCare_Reviews_22May2017\\\\TonoPuff_Main\\\\Review_Record_for_TonoPuff_Schematics_ASB.xlsx',\n",
       " '\\\\\\\\ata-fs1\\\\atalanta\\\\acl\\\\Tactiq\\\\Clients\\\\Keeler\\\\Projects\\\\TonoPuff\\\\Deliveries\\\\Misc\\\\Delivered\\\\22May2017\\\\TonoCare_Reviews_22May2017\\\\TonoPuff_Main\\\\Review_Record_for_TonoPuff_Schematics_PSB.xlsx',\n",
       " '\\\\\\\\ata-fs1\\\\atalanta\\\\acl\\\\Tactiq\\\\Clients\\\\Keeler\\\\Projects\\\\TonoPuff\\\\Deliveries\\\\Misc\\\\Delivered\\\\22May2017\\\\TonoCare_Reviews_22May2017\\\\TonoPuff_Main\\\\Review_Record_for_TonoPuff_Software_Code.xlsx',\n",
       " '\\\\\\\\ata-fs1\\\\atalanta\\\\acl\\\\Tactiq\\\\Clients\\\\Keeler\\\\Projects\\\\TonoPuff\\\\Deliveries\\\\Misc\\\\Delivered\\\\22May2017\\\\TonoCare_Reviews_22May2017\\\\TonoPuff_Main\\\\Review_Record_for_TonoPuff_APP_SENSOR_Cable_Drawing.xlsx',\n",
       " '\\\\\\\\ata-fs1\\\\atalanta\\\\acl\\\\Tactiq\\\\Clients\\\\Keeler\\\\Projects\\\\TonoPuff\\\\Deliveries\\\\Misc\\\\Delivered\\\\22May2017\\\\TonoCare_Reviews_22May2017\\\\TonoPuff_Main\\\\Review_Record_TIQ_8585_TonoPuff_EMC_Test_Plan.xlsx',\n",
       " '\\\\\\\\ata-fs1\\\\atalanta\\\\acl\\\\Tactiq\\\\Clients\\\\Keeler\\\\Projects\\\\TonoPuff\\\\Deliveries\\\\Misc\\\\Delivered\\\\22May2017\\\\TonoCare_Reviews_22May2017\\\\TonoPuff_Main\\\\Review_Record_for_TonoPuff_Critical_Component.xlsx',\n",
       " '\\\\\\\\ata-fs1\\\\atalanta\\\\acl\\\\Tactiq\\\\Clients\\\\Keeler\\\\Projects\\\\TonoPuff\\\\Deliveries\\\\Misc\\\\Delivered\\\\22May2017\\\\TonoCare_Reviews_22May2017\\\\TonoPuff_Main\\\\Review_Record_for_TonoPuff_Power_Cable_Drawing.xlsx',\n",
       " '\\\\\\\\ata-fs1\\\\atalanta\\\\acl\\\\Tactiq\\\\Clients\\\\Keeler\\\\Projects\\\\TonoPuff\\\\Deliveries\\\\Misc\\\\Delivered\\\\22May2017\\\\TonoCare_Reviews_22May2017\\\\TonoPuff_Main\\\\Review_Record_for_TonoPuff_Power_Cable_Wired_Assembly_Drawing.xlsx',\n",
       " '\\\\\\\\ata-fs1\\\\atalanta\\\\acl\\\\Tactiq\\\\Clients\\\\Keeler\\\\Projects\\\\TonoPuff\\\\Deliveries\\\\Misc\\\\Delivered\\\\22May2017\\\\TonoCare_Reviews_22May2017\\\\TonoPuff_Main\\\\Review_Record_for_TonoPuff EMC 4th Ed Test Plan_1.0d.xlsx',\n",
       " '\\\\\\\\ata-fs1\\\\atalanta\\\\acl\\\\Tactiq\\\\Clients\\\\Keeler\\\\Projects\\\\TonoPuff\\\\Deliveries\\\\Misc\\\\Delivered\\\\22May2017\\\\TonoCare_Reviews_22May2017\\\\TonoPuff_Main\\\\Review_Record_for_TonoPuff_End_of_Line_Test_Procedure.xlsx',\n",
       " '\\\\\\\\ata-fs1\\\\atalanta\\\\acl\\\\Tactiq\\\\Clients\\\\Keeler\\\\Projects\\\\TonoPuff\\\\Deliveries\\\\Misc\\\\Delivered\\\\22May2017\\\\TonoCare_Reviews_22May2017\\\\TonoPuff_Main\\\\Review_Record_for_TonoPuff_2418-P-5038-3_Modification_Procedure.xlsx',\n",
       " '\\\\\\\\ata-fs1\\\\atalanta\\\\acl\\\\Tactiq\\\\Clients\\\\Keeler\\\\Projects\\\\TonoPuff\\\\Deliveries\\\\Misc\\\\Delivered\\\\22May2017\\\\TonoCare_Reviews_22May2017\\\\TonoPuff_Main\\\\Review_Record_for_TonoPuff_Positioning_Cable_Drawing.xlsx',\n",
       " '\\\\\\\\ata-fs1\\\\atalanta\\\\acl\\\\Tactiq\\\\Clients\\\\Keeler\\\\Projects\\\\TonoPuff\\\\Deliveries\\\\Misc\\\\Delivered\\\\22May2017\\\\TonoCare_Reviews_22May2017\\\\TonoPuff_Main\\\\Review_Record_for_TonoPuff_Software_Release_Procedure.xlsx',\n",
       " '\\\\\\\\ata-fs1\\\\atalanta\\\\acl\\\\Tactiq\\\\Clients\\\\Keeler\\\\Projects\\\\TonoPuff\\\\Deliveries\\\\Misc\\\\Delivered\\\\22May2017\\\\TonoCare_Reviews_22May2017\\\\TonoPuff_Main\\\\Review_Record_for_TonoPuff Golden Mode Test Procedure.xlsx',\n",
       " '\\\\\\\\ata-fs1\\\\atalanta\\\\acl\\\\Tactiq\\\\Clients\\\\Keeler\\\\Projects\\\\TonoPuff\\\\Deliveries\\\\Misc\\\\Delivered\\\\22May2017\\\\TonoCare_Reviews_22May2017\\\\TonoPuff_Main\\\\Review_Record_for_TonoPuff_2418-P-5038-2_Modification_Procedure.xlsx',\n",
       " '\\\\\\\\ata-fs1\\\\atalanta\\\\acl\\\\Tactiq\\\\Clients\\\\Keeler\\\\Projects\\\\TonoPuff\\\\Deliveries\\\\Misc\\\\Delivered\\\\22May2017\\\\TonoCare_Reviews_22May2017\\\\TonoPuff_Main\\\\Review_Record_for_Tonopuff _System_Test_Procedure.xlsx',\n",
       " '\\\\\\\\ata-fs1\\\\atalanta\\\\acl\\\\Tactiq\\\\Clients\\\\Keeler\\\\Projects\\\\TonoPuff\\\\Deliveries\\\\Misc\\\\Delivered\\\\22May2017\\\\TonoCare_Reviews_22May2017\\\\TonoPuff_Main\\\\Review_Record_for_TonoPuff_Electronics_Test_Procedure.xlsx',\n",
       " '\\\\\\\\ata-fs1\\\\atalanta\\\\acl\\\\Tactiq\\\\Clients\\\\Keeler\\\\Projects\\\\TonoPuff\\\\Deliveries\\\\Misc\\\\Delivered\\\\22May2017\\\\TonoCare_Reviews_22May2017\\\\TonoPuff_Main\\\\Review_Record_for_TonoPuff _Electronics_Requirements.xlsx',\n",
       " '\\\\\\\\ata-fs1\\\\atalanta\\\\acl\\\\Tactiq\\\\Clients\\\\Keeler\\\\Projects\\\\TonoPuff\\\\Deliveries\\\\Misc\\\\Delivered\\\\22May2017\\\\TonoCare_Reviews_22May2017\\\\TonoPuff_Main\\\\Review_Record_for_TonoPuff_Schematics_Positioning.xlsx',\n",
       " '\\\\\\\\ata-fs1\\\\atalanta\\\\acl\\\\Tactiq\\\\Clients\\\\Keeler\\\\Projects\\\\TonoPuff\\\\Deliveries\\\\Misc\\\\Delivered\\\\22May2017\\\\TonoCare_Reviews_22May2017\\\\TonoPuff_Main\\\\Review_Record_for_TonoPuff_Software_Quality_Plan.xlsx',\n",
       " '\\\\\\\\ata-fs1\\\\atalanta\\\\acl\\\\Tactiq\\\\Clients\\\\Keeler\\\\Projects\\\\TonoPuff\\\\Deliveries\\\\Misc\\\\Delivered\\\\22May2017\\\\TonoCare_Reviews_22May2017\\\\TonoPuff_Main\\\\Review_Record_for_TonoPuff_Flammability_Ratings.xlsx',\n",
       " '\\\\\\\\ata-fs1\\\\atalanta\\\\acl\\\\Tactiq\\\\Clients\\\\Keeler\\\\Projects\\\\TonoPuff\\\\Deliveries\\\\Misc\\\\Delivered\\\\22May2017\\\\TonoCare_Reviews_22May2017\\\\TonoPuff_Calibration\\\\Review_Record_for_TonoPuff_Calibration_Schematics_Design.xlsx',\n",
       " '\\\\\\\\ata-fs1\\\\atalanta\\\\acl\\\\Tactiq\\\\Clients\\\\Keeler\\\\Projects\\\\TonoPuff\\\\Deliveries\\\\Misc\\\\Delivered\\\\22May2017\\\\TonoCare_Reviews_22May2017\\\\TonoPuff_Calibration\\\\Review_Record_for_TonoPuff_Calibration_Electronics_Requirements.xlsx',\n",
       " '\\\\\\\\ata-fs1\\\\atalanta\\\\acl\\\\Tactiq\\\\Clients\\\\Keeler\\\\Projects\\\\TonoPuff\\\\Deliveries\\\\Misc\\\\Delivered\\\\22May2017\\\\TonoCare_Reviews_22May2017\\\\TonoPuff_Calibration\\\\Review_Record_for_TonoPuff_Calibrator_Unit_Test_Procedure.xlsx',\n",
       " '\\\\\\\\ata-fs1\\\\atalanta\\\\acl\\\\Tactiq\\\\Clients\\\\Keeler\\\\Projects\\\\TonoPuff\\\\Deliveries\\\\Misc\\\\Delivered\\\\22May2017\\\\TonoCare_Reviews_22May2017\\\\TonoPuff_Calibration\\\\Review_Record_for_TonoPuff_Pressure_Calibration_Command_Spec.xlsx',\n",
       " '\\\\\\\\ata-fs1\\\\atalanta\\\\acl\\\\Tactiq\\\\Clients\\\\Keeler\\\\Projects\\\\TonoPuff\\\\Deliveries\\\\Misc\\\\Delivered\\\\22May2017\\\\TonoCare_Reviews_22May2017\\\\TonoPuff_Calibration\\\\Review_Record_for_TonoPuff_Calibration_Device_Electronics.xlsx',\n",
       " '\\\\\\\\ata-fs1\\\\atalanta\\\\acl\\\\Tactiq\\\\Clients\\\\Keeler\\\\Projects\\\\TonoPuff\\\\Deliveries\\\\Misc\\\\Delivered\\\\22May2017\\\\TonoCare_Reviews_22May2017\\\\TonoPuff_Calibration\\\\Review_Record_for_TonoPuff_Calibration_Software_Code.xlsx',\n",
       " '\\\\\\\\ata-fs1\\\\atalanta\\\\acl\\\\Tactiq\\\\Clients\\\\Keeler\\\\Projects\\\\TonoPuff\\\\Deliveries\\\\Misc\\\\Delivered\\\\22May2017\\\\TonoCare_Reviews_22May2017\\\\TonoPuff_Calibration\\\\Review_Record_for_TIQ_8583_TonoPuff_Cal_Board_PCB_Layout_Guidelines.xlsx',\n",
       " '\\\\\\\\ata-fs1\\\\atalanta\\\\acl\\\\Tactiq\\\\Clients\\\\Keeler\\\\Projects\\\\TonoPuff\\\\Deliveries\\\\Misc\\\\Delivered\\\\22May2017\\\\TonoCare_Reviews_22May2017\\\\TonoPuff_Calibration\\\\Review_Record_for_TonoPuff_Calibration_Board_PCB_Layout_Guidelines.xlsx',\n",
       " '\\\\\\\\ata-fs1\\\\atalanta\\\\acl\\\\Tactiq\\\\Clients\\\\Keeler\\\\Projects\\\\TonoPuff\\\\Deliveries\\\\Misc\\\\Delivered\\\\22May2017\\\\TonoCare_Reviews_22May2017\\\\TonoPuff_Calibration\\\\Review_Record_for_TonoPuff_Calibration_Software_Design.xlsx',\n",
       " '\\\\\\\\ata-fs1\\\\atalanta\\\\acl\\\\Tactiq\\\\Clients\\\\Keeler\\\\Projects\\\\TonoPuff\\\\Deliveries\\\\Misc\\\\Delivered\\\\22May2017\\\\TonoCare_Reviews_22May2017\\\\TonoPuff_Calibration\\\\Review_Record_for_TonoPuff_Calibration_Software_Requirements.xlsx',\n",
       " '\\\\\\\\ata-fs1\\\\atalanta\\\\acl\\\\Tactiq\\\\Clients\\\\Keeler\\\\Projects\\\\TonoPuff\\\\Deliveries\\\\Misc\\\\Delivered\\\\22May2017\\\\TonoCare_Reviews_22May2017\\\\TonoPuff_Calibration\\\\Review_Record_for_TonoPuff_Calibration_Device_Electronics_Design.xlsx',\n",
       " '\\\\\\\\ata-fs1\\\\atalanta\\\\acl\\\\Tactiq\\\\Clients\\\\Keeler\\\\Projects\\\\TonoPuff\\\\Deliveries\\\\Misc\\\\Delivered\\\\22May2017\\\\TonoCare_Reviews_22May2017\\\\EMC\\\\Review_Record_for_TIQ_9362_TonoPuff_ESD_Pre-compliance_Testing_Report.xlsx',\n",
       " '\\\\\\\\ata-fs1\\\\atalanta\\\\acl\\\\Tactiq\\\\Clients\\\\Keeler\\\\Projects\\\\TonoPuff\\\\Deliveries\\\\Misc\\\\Delivered\\\\22May2017\\\\TonoCare_Reviews_22May2017\\\\EMC\\\\Review_Record_for_TIQ_85xx_TonoPuff_Radiated_Immunity_Pre-compliance_Testing_Report.xlsx',\n",
       " '\\\\\\\\ata-fs1\\\\atalanta\\\\acl\\\\Tactiq\\\\Clients\\\\Keeler\\\\Projects\\\\TonoPuff\\\\Deliveries\\\\Misc\\\\Delivered\\\\25May2017\\\\TonoCare\\\\Review_Record_for_TonoPuff_Software_Electronics_Release_Test_Plan_and_Report.xlsx']"
      ]
     },
     "execution_count": 176,
     "metadata": {},
     "output_type": "execute_result"
    }
   ],
   "source": [
    "has_deliveries = [f for f in files if 'deliveries' in f.lower()]\n",
    "#no_released = [f for f in no_projectname if 'released documents' not in f.lower()]\n",
    "has_deliveries"
   ]
  }
 ],
 "metadata": {
  "kernelspec": {
   "display_name": "Python 3",
   "language": "python",
   "name": "python3"
  },
  "language_info": {
   "codemirror_mode": {
    "name": "ipython",
    "version": 3
   },
   "file_extension": ".py",
   "mimetype": "text/x-python",
   "name": "python",
   "nbconvert_exporter": "python",
   "pygments_lexer": "ipython3",
   "version": "3.6.2"
  }
 },
 "nbformat": 4,
 "nbformat_minor": 2
}
