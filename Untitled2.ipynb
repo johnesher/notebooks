{
 "cells": [
  {
   "cell_type": "code",
   "execution_count": 8,
   "metadata": {},
   "outputs": [
    {
     "name": "stdout",
     "output_type": "stream",
     "text": [
      "Matching 10.000000 to 100.000000 at 20.000000MHz\n",
      "Q = 3.000000\n",
      "XP = 3.333333 Ohms\n",
      "XS = 300.000000 Ohms\n",
      "Highpass: \n",
      "LP = 26.539278 nH\n",
      "CS = 26500.000000 pF\n",
      "Lowpass: \n",
      "CP = 2385000.000000 pF\n",
      "LS = 2388.535032 nH\n",
      "Matching 100.000000 to 10.000000 at 20.000000MHz\n",
      "Q = 3.000000\n",
      "XP = 33.333333 Ohms\n",
      "XS = 30.000000 Ohms\n",
      "Highpass: \n",
      "LP = 265.392781 nH\n",
      "CS = 265000.000000 pF\n",
      "Lowpass: \n",
      "CP = 238500.000000 pF\n",
      "LS = 238.853503 nH\n"
     ]
    }
   ],
   "source": [
    "import math\n",
    "\n",
    "def getMatch(source,load,freq):\n",
    "    R1 = source\n",
    "    R2 = load\n",
    "    if R2 > R1:\n",
    "        Q = R2/R1\n",
    "    else:\n",
    "        Q = R1/R2\n",
    "    Q = Q - 1\n",
    "    Q = math.sqrt(Q)\n",
    "\n",
    "    XP = R1/Q\n",
    "    LP = XP/(6.28*freq)\n",
    "    CP = 159/(freq * XP)\n",
    "\n",
    "    XS = R2*Q\n",
    "    CS = 159/(freq*XS)\n",
    "    LS = XS/(6.28 *freq)\n",
    "\n",
    "    print('Matching %f to %f at %fMHz' % (source, load, freq/1e6))\n",
    "    print( \"Q = %f\" % Q)\n",
    "    print( \"XP = %f Ohms\" % XP)\n",
    "    print( \"XS = %f Ohms\" % XS )\n",
    "\n",
    "    print( \"Highpass: \")\n",
    "    print( \"LP = %f nH\" % (LP * 1e9))\n",
    "    print( \"CS = %f pF\" % (CS * 1e12))\n",
    "\n",
    "    print( \"Lowpass: \")\n",
    "    print( \"CP = %f pF\" % (CP * 1e12))\n",
    "    print( \"LS = %f nH\" % (LS * 1e9))\n",
    "\n",
    "getMatch(10, 100, 20e6)\n",
    "getMatch(100, 10, 20e6)"
   ]
  }
 ],
 "metadata": {
  "kernelspec": {
   "display_name": "Python 3",
   "language": "python",
   "name": "python3"
  },
  "language_info": {
   "codemirror_mode": {
    "name": "ipython",
    "version": 3
   },
   "file_extension": ".py",
   "mimetype": "text/x-python",
   "name": "python",
   "nbconvert_exporter": "python",
   "pygments_lexer": "ipython3",
   "version": "3.4.3"
  }
 },
 "nbformat": 4,
 "nbformat_minor": 2
}
