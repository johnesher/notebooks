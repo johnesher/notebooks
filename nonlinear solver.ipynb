{
 "cells": [
  {
   "cell_type": "markdown",
   "metadata": {},
   "source": [
    "starting with series model, calc l and c \n",
    "w1=2*3.1415*10e6\n",
    "x1=-14.1  # @10M\n",
    "w2=2*3.1415*15e6\n",
    "x2=15.4  # @15M\n",
    "c=(w1/w2**.5 - 1/w1) / (x1 - x2*w1/w2)\n",
    "#c=(w2/w1**.5 - 1/w2) / (x2 - x1*w2/w1)\n",
    "L = x2/w2 - 1/(c*w2**2)\n",
    "res_w = (1/(L*c))**.5\n",
    "res_f = 1 / ( 2 * 3.1415 * (L*c)**.5)\n",
    "L*1e9, c*1e9, res_f*1e-6"
   ]
  },
  {
   "cell_type": "code",
   "execution_count": 168,
   "metadata": {},
   "outputs": [
    {
     "name": "stdout",
     "output_type": "stream",
     "text": [
      "[ 0.62034452  1.83838393]\n",
      "RUN TIME : 0.02153864299179986\n"
     ]
    }
   ],
   "source": [
    "import numpy as np\n",
    "import scipy.optimize as opt\n",
    "from numpy import exp\n",
    "import timeit\n",
    "\n",
    "st1 = timeit.default_timer()\n",
    "\n",
    "def f(variables) :\n",
    "    (x,y) = variables\n",
    "\n",
    "    first_eq = x + y**2 -4\n",
    "    second_eq = exp(x) + x*y - 3\n",
    "    return [first_eq, second_eq]\n",
    "\n",
    "solution = opt.fsolve(f, (0.1,1) )\n",
    "print(solution)\n",
    "\n",
    "\n",
    "st2 = timeit.default_timer()\n",
    "print(\"RUN TIME : {0}\".format(st2-st1))"
   ]
  },
  {
   "cell_type": "code",
   "execution_count": 34,
   "metadata": {},
   "outputs": [
    {
     "name": "stdout",
     "output_type": "stream",
     "text": [
      "L=473.659nH, C=362.881pF\n",
      "resonance 12.139629MHz\n"
     ]
    }
   ],
   "source": [
    "w1=2*3.1415*10e6\n",
    "x1=-14.1  # @10M\n",
    "w2=2*3.1415*15e6\n",
    "x2=15.4  # @15M\n",
    "\n",
    "def series_lc(variables) :\n",
    "    (l,c) = variables\n",
    "\n",
    "    first_eq = w1*l - 1/(w1*c)  - x1\n",
    "    second_eq = w2*l - 1/(w2*c) - x2\n",
    "    return [first_eq, second_eq]\n",
    "\n",
    "solution = opt.fsolve(series_lc, (1e-9,1e-9) )\n",
    "L, C = solution\n",
    "print('L=%.3fnH, C=%.3fpF' % (L*1e9, C*1e12))\n",
    "print('resonance %fMHz' % (1e-6/(2*3.14159*(L*C)**0.5)))"
   ]
  },
  {
   "cell_type": "code",
   "execution_count": 71,
   "metadata": {},
   "outputs": [
    {
     "name": "stdout",
     "output_type": "stream",
     "text": [
      "L=105.829nH, C=1804.166pF\n",
      "resonance 11.518058MHz\n"
     ]
    },
    {
     "data": {
      "text/plain": [
       "0.037037037037037035"
      ]
     },
     "execution_count": 71,
     "metadata": {},
     "output_type": "execute_result"
    }
   ],
   "source": [
    "w1=2*3.1415*10e6\n",
    "x1=-27  # @10M\n",
    "y1 = -1 / x1\n",
    "\n",
    "w2=2*3.1415*20e6\n",
    "x2=6.6  # @20M\n",
    "y2 = -1 / x2\n",
    "\n",
    "def parallel_lc(variables) :\n",
    "    (l,c) = variables\n",
    "\n",
    "    first_eq = 1/(w1*l) - (w1*c)  - y1\n",
    "    second_eq = 1/(w2*l) - (w2*c) - y2\n",
    "    return [first_eq, second_eq]\n",
    "\n",
    "solution = opt.fsolve(parallel_lc, (1e-9,1e-9) )\n",
    "L, C = solution\n",
    "print('L=%.3fnH, C=%.3fpF' % (L*1e9, C*1e12))\n",
    "print('resonance %fMHz' % (1e-6/(2*3.14159*(L*C)**0.5)))\n",
    "y1"
   ]
  },
  {
   "cell_type": "code",
   "execution_count": 44,
   "metadata": {},
   "outputs": [
    {
     "data": {
      "text/plain": [
       "(92.57250961208719, -34.72397246538485)"
      ]
     },
     "execution_count": 44,
     "metadata": {},
     "output_type": "execute_result"
    }
   ],
   "source": [
    "# Test parallel maths with the lc from series above\n",
    "L=473.659e-9\n",
    "C=362.881e-12\n",
    "Y10 = 1/(w1*L) - (w1*C)\n",
    "Y15 = 1/(w2*L) - (w2*C)\n",
    "1/Y10, 1/Y15"
   ]
  },
  {
   "cell_type": "markdown",
   "metadata": {},
   "source": [
    "Now let's try with complex numbers\n",
    "\n",
    "fsolve finds zeros of functions from $R^n \\to R$\n",
    "\n",
    "Try rewriting the function as $R^4 \\to R^4$"
   ]
  },
  {
   "cell_type": "code",
   "execution_count": 67,
   "metadata": {},
   "outputs": [
    {
     "name": "stdout",
     "output_type": "stream",
     "text": [
      "L=473.659nH, C=361.191pF\n",
      "resonance 12.167993MHz\n"
     ]
    }
   ],
   "source": [
    "w1 = 2 * 3.1415 * 10e6\n",
    "x1 = 5 -14.1j  # @10M\n",
    "w2 = 2 * 3.1415 * 15e6\n",
    "x2 = 5 + 15.4j  # @15M\n",
    "\n",
    "def series_lc(variables) :\n",
    "    (lr, li, cr, ci) = variables\n",
    "    l = complex(lr, li)\n",
    "    c = complex(cr, ci)\n",
    "    first_eq = w1*l + 1/(w1*c)  - x1\n",
    "    second_eq = w2*l + 1/(w2*c) - x2\n",
    "    return [first_eq.real, first_eq.imag, second_eq.real, second_eq.imag]\n",
    "\n",
    "solution = opt.fsolve(series_lc, (0, 1e-9, 0, 1e-9))\n",
    "_, L, _, C = solution\n",
    "print('L=%.3fnH, C=%.3fpF' % (L*1e9, C*1e12))\n",
    "print('resonance %fMHz' % (1e-6/(2*3.14159*(L*C)**0.5)))"
   ]
  },
  {
   "cell_type": "code",
   "execution_count": 74,
   "metadata": {},
   "outputs": [
    {
     "name": "stdout",
     "output_type": "stream",
     "text": [
      "[  4.48720310e-08   1.26257361e-07  -7.38640475e-10   1.21142293e-09]\n",
      "L=126.257nH, C=1211.423pF\n",
      "resonance 12.868984MHz\n"
     ]
    }
   ],
   "source": [
    "# parallel with complex nos - here the 5R makes a big difference\n",
    "# should probably include the 5R in series in the equations\n",
    "w1 = 2 * 3.1415 * 10e6\n",
    "x1 = 5 -27j  # @10M\n",
    "y1 = -1 / x1\n",
    "\n",
    "w2 = 2 * 3.1415 * 20e6\n",
    "x2 = 5 +6.6j  # @20M\n",
    "y2 = -1 / x2\n",
    "\n",
    "def parallel_lc(variables) :\n",
    "    (lr, li, cr, ci) = variables\n",
    "    l = complex(lr, li)\n",
    "    c = complex(cr, ci)\n",
    "    \n",
    "    first_eq = 1/(w1*l) + (w1*c) - y1\n",
    "    second_eq = 1/(w2*l) + (w2*c) - y2\n",
    "    return [first_eq.real, first_eq.imag, second_eq.real, second_eq.imag]\n",
    "\n",
    "solution = opt.fsolve(parallel_lc, (0, 1e-9, 0, 1e-9))\n",
    "print(solution)\n",
    "_, L, _, C = solution\n",
    "print('L=%.3fnH, C=%.3fpF' % (L*1e9, C*1e12))\n",
    "print('resonance %fMHz' % (1e-6/(2*3.14159*(L*C)**0.5)))"
   ]
  },
  {
   "cell_type": "code",
   "execution_count": 78,
   "metadata": {},
   "outputs": [
    {
     "name": "stdout",
     "output_type": "stream",
     "text": [
      "[ -9.24464407e-09  -8.58474531e-08  -2.04705277e-09   6.44554224e-07]\n",
      "L=-85.847nH, C=644554.224pF\n",
      "resonance nanMHz\n"
     ]
    },
    {
     "name": "stderr",
     "output_type": "stream",
     "text": [
      "/usr/local/lib/python3.4/dist-packages/scipy/optimize/minpack.py:161: RuntimeWarning: The iteration is not making good progress, as measured by the \n",
      "  improvement from the last ten iterations.\n",
      "  warnings.warn(msg, RuntimeWarning)\n",
      "/usr/local/lib/python3.4/dist-packages/ipykernel_launcher.py:24: RuntimeWarning: invalid value encountered in double_scalars\n"
     ]
    }
   ],
   "source": [
    "# parallel with complex nos and a 5R in series\n",
    "w1 = 2 * 3.1415 * 10e6\n",
    "x1 = 5 -27j  # @10M\n",
    "y1 = -1 / x1\n",
    "\n",
    "w2 = 2 * 3.1415 * 20e6\n",
    "x2 = 5 +6.6j  # @20M\n",
    "y2 = -1 / x2\n",
    "\n",
    "def parallel_lc(variables) :\n",
    "    # now with a 5R in series\n",
    "    (lr, li, cr, ci) = variables\n",
    "    l = complex(lr, li)\n",
    "    c = complex(cr, ci)\n",
    "    \n",
    "    first_eq = 1/(1/(w1*l) + (w1*c)) + 5 - x1\n",
    "    second_eq = 1/(1/(w2*l) + (w2*c)) + 5 - x2\n",
    "    return [first_eq.real, first_eq.imag, second_eq.real, second_eq.imag]\n",
    "\n",
    "solution = opt.fsolve(parallel_lc, (0, 1e-9, 0, 1e-9))\n",
    "print(solution)\n",
    "_, L, _, C = solution\n",
    "print('L=%.3fnH, C=%.3fpF' % (L*1e9, C*1e12))\n",
    "print('resonance %fMHz' % (1e-6/(2*3.14159*(L*C)**0.5)))"
   ]
  },
  {
   "cell_type": "code",
   "execution_count": 173,
   "metadata": {
    "scrolled": true
   },
   "outputs": [
    {
     "name": "stdout",
     "output_type": "stream",
     "text": [
      "L=473.659nH, C=361.191pF\n",
      "resonance 12.167993MHz\n"
     ]
    },
    {
     "data": {
      "image/png": "[encoded data removed]",
      "text/latex": [
       "$$\\left ( \\frac{w_{1} x_{1} - w_{2} x_{2}}{\\left(w_{1} - w_{2}\\right) \\left(w_{1} + w_{2}\\right)}, \\quad \\frac{\\left(w_{1} - w_{2}\\right) \\left(w_{1} + w_{2}\\right)}{w_{1} w_{2} \\left(w_{1} x_{2} - w_{2} x_{1}\\right)}\\right )$$"
      ],
      "text/plain": [
       "⎛   w₁⋅x₁ - w₂⋅x₂      (w₁ - w₂)⋅(w₁ + w₂) ⎞\n",
       "⎜───────────────────, ─────────────────────⎟\n",
       "⎝(w₁ - w₂)⋅(w₁ + w₂)  w₁⋅w₂⋅(w₁⋅x₂ - w₂⋅x₁)⎠"
      ]
     },
     "execution_count": 173,
     "metadata": {},
     "output_type": "execute_result"
    }
   ],
   "source": [
    "import sympy as sp\n",
    "sp.init_printing()\n",
    "I = sp.I\n",
    "w1, x1, w2, x2 = sp.symbols('w1 x1 w2 x2')\n",
    "sz10 = w1*sl + 1/(w1*sc)\n",
    "sz15 = w2*sl + 1/(w2*sc)\n",
    "sL, sC = sp.solve([sz10-x1, sz15-x2], [sl, sc])[0]\n",
    "L = sL.subs({\n",
    "    w1:2 * 3.1415 * 10e6,\n",
    "    x1:5 -14.1j,\n",
    "    w2:2 * 3.1415 * 15e6,\n",
    "    x2:5 + 15.4j\n",
    "})\n",
    "C = sC.subs({\n",
    "    w1:2 * 3.1415 * 10e6,\n",
    "    x1:5 -14.1j,\n",
    "    w2:2 * 3.1415 * 15e6,\n",
    "    x2:5 + 15.4j\n",
    "})\n",
    "print('L=%.3fnH, C=%.3fpF' % (sp.im(L)*1e9, sp.im(C)*1e12))\n",
    "print('resonance %fMHz' % (1e-6/(2*3.14159*(sp.im(L) * sp.im(C))**0.5)))\n",
    "sL, sC"
   ]
  },
  {
   "cell_type": "code",
   "execution_count": 170,
   "metadata": {},
   "outputs": [
    {
     "name": "stdout",
     "output_type": "stream",
     "text": [
      "L=-126.254nH, C=-1211.387pF\n",
      "resonance 12.869363MHz\n"
     ]
    }
   ],
   "source": [
    "# x20 = 5 +6.6j\n",
    "# x10 = 5 -27j\n",
    "# w20 =  2 * np.pi * 20e6\n",
    "# w10 = 2 * np.pi * 10e6\n",
    "import numpy as np\n",
    "w10, x10, w20, x20 = sp.symbols('w10 x10 w20 x20')\n",
    "sy10 = 1 /(w10*sl) + (w10*sc)\n",
    "sz10 = 1 / sy10\n",
    "sy20 = 1 / (w20*sl) + (w20*sc)\n",
    "sz20 = 1 / sy20\n",
    "sL, sC = sp.solve([sz10-x10, sz20-x20], [sl, sc])[0]\n",
    "sL, sC\n",
    "#sp.solve([sz10-x10, sz20-x20], [sl, sc])\n",
    "L = sL.subs({\n",
    "    w10:2 * np.pi * 10e6,\n",
    "    x10:5 -27j,\n",
    "    w20:2 * np.pi * 20e6,\n",
    "    x20:5 +6.6j\n",
    "})\n",
    "C = sC.subs({\n",
    "    w10:2 * np.pi * 10e6,\n",
    "    x10:5 -27j,\n",
    "    w20:2 * np.pi * 20e6,\n",
    "    x20:5 +6.6j\n",
    "})\n",
    "print('L=%.3fnH, C=%.3fpF' % (sp.im(L)*1e9, sp.im(C)*1e12))\n",
    "print('resonance %fMHz' % (1e-6/(2*3.14159*(sp.im(L) * sp.im(C))**0.5)))"
   ]
  }
 ],
 "metadata": {
  "kernelspec": {
   "display_name": "Python 3",
   "language": "python",
   "name": "python3"
  },
  "language_info": {
   "codemirror_mode": {
    "name": "ipython",
    "version": 3
   },
   "file_extension": ".py",
   "mimetype": "text/x-python",
   "name": "python",
   "nbconvert_exporter": "python",
   "pygments_lexer": "ipython3",
   "version": "3.4.3"
  }
 },
 "nbformat": 4,
 "nbformat_minor": 2
}
