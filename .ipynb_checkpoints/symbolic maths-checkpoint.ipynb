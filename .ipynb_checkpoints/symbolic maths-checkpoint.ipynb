{
 "cells": [
  {
   "cell_type": "code",
   "execution_count": 53,
   "metadata": {},
   "outputs": [
    {
     "data": {
      "text/latex": [
       "$$\\left [ -1, \\quad 1\\right ]$$"
      ],
      "text/plain": [
       "[-1, 1]"
      ]
     },
     "execution_count": 53,
     "metadata": {},
     "output_type": "execute_result"
    }
   ],
   "source": [
    "from sympy.solvers import solve\n",
    "from sympy import Symbol, symbols\n",
    "from sympy.plotting import plot\n",
    "from sympy.interactive import printing\n",
    "printing.init_printing(use_latex='mathjax')\n",
    "x = Symbol('x')\n",
    "solve(x**2 - 1, x)"
   ]
  },
  {
   "cell_type": "code",
   "execution_count": 54,
   "metadata": {},
   "outputs": [],
   "source": [
    "Yl1, Yc1, Y1 = symbols('Yl1 Yc1 Y1')\n",
    "Yl2, Yc2, Y2 = symbols('Yl2 Yc2 Y2')\n",
    "C, L = symbols('C L')\n",
    "w1 = 10e6\n",
    "w2 = 20e6\n",
    "Zc1 = 1/w1*C\n",
    "Zl1 = w1*L\n",
    "Zc2 = 1/w2*C\n",
    "Zl2 = w2*L\n",
    "Yc1 = 1/Zc1\n",
    "Yc2 = 1/Zc2\n",
    "Yl1 = 1/Zl1\n",
    "Yl2 = 1/Zl2\n",
    "Y1 = Yl1+Yc1\n",
    "Y2 = Yl2+Yc2"
   ]
  },
  {
   "cell_type": "code",
   "execution_count": 55,
   "metadata": {},
   "outputs": [
    {
     "data": {
      "text/latex": [
       "$$\\left [ \\left ( -2142857.14285714, \\quad 3.26086956521739 \\cdot 10^{-9}\\right )\\right ]$$"
      ],
      "text/plain": [
       "[(-2142857.14285714, 3.26086956521739e-9)]"
      ]
     },
     "execution_count": 55,
     "metadata": {},
     "output_type": "execute_result"
    }
   ],
   "source": [
    "solve([Y1-26, Y2-6], [C, L])"
   ]
  },
  {
   "cell_type": "code",
   "execution_count": 56,
   "metadata": {},
   "outputs": [
    {
     "data": {
      "text/latex": [
       "$$\\left ( \\psi, \\quad Y_{L 12}\\right )$$"
      ],
      "text/plain": [
       "(\\psi, Y_L_12)"
      ]
     },
     "execution_count": 56,
     "metadata": {},
     "output_type": "execute_result"
    }
   ],
   "source": [
    "symbols('\\\\psi'), symbols('Y_L_12')"
   ]
  },
  {
   "cell_type": "code",
   "execution_count": 57,
   "metadata": {},
   "outputs": [],
   "source": [
    "w1, w2 = symbols('w1 w2')\n",
    "Zc1 = 1/w1*C\n",
    "Zl1 = w1*L\n",
    "Zc2 = 1/w2*C\n",
    "Zl2 = w2*L\n",
    "Yc1 = 1/Zc1\n",
    "Yc2 = 1/Zc2\n",
    "Yl1 = 1/Zl1\n",
    "Yl2 = 1/Zl2\n",
    "Y1 = Yl1+Yc1\n",
    "Y2 = Yl2+Yc2"
   ]
  },
  {
   "cell_type": "code",
   "execution_count": 58,
   "metadata": {},
   "outputs": [
    {
     "data": {
      "text/latex": [
       "$$\\left ( \\frac{1}{L w_{1}} + \\frac{w_{1}}{C}, \\quad \\frac{1}{L w_{2}} + \\frac{w_{2}}{C}\\right )$$"
      ],
      "text/plain": [
       "⎛ 1     w₁   1     w₂⎞\n",
       "⎜──── + ──, ──── + ──⎟\n",
       "⎝L⋅w₁   C   L⋅w₂   C ⎠"
      ]
     },
     "execution_count": 58,
     "metadata": {},
     "output_type": "execute_result"
    }
   ],
   "source": [
    "Y1, Y2"
   ]
  },
  {
   "cell_type": "code",
   "execution_count": 59,
   "metadata": {},
   "outputs": [
    {
     "data": {
      "text/latex": [
       "$$\\frac{1}{L w_{2}} + \\frac{w_{2}}{C}$$"
      ],
      "text/plain": [
       " 1     w₂\n",
       "──── + ──\n",
       "L⋅w₂   C "
      ]
     },
     "execution_count": 59,
     "metadata": {},
     "output_type": "execute_result"
    }
   ],
   "source": [
    "Cs = solve(Y1-6, C)\n",
    "Y2.subs(C, Cs)"
   ]
  },
  {
   "cell_type": "code",
   "execution_count": 60,
   "metadata": {},
   "outputs": [
    {
     "data": {
      "text/latex": [
       "$$\\left ( \\frac{1}{L w_{2}} + \\frac{w_{2}}{C}, \\quad \\left [ \\frac{L w_{1}^{2}}{6 L w_{1} - 1}\\right ]\\right )$$"
      ],
      "text/plain": [
       "⎛           ⎡      2   ⎤⎞\n",
       "⎜ 1     w₂  ⎢  L⋅w₁    ⎥⎟\n",
       "⎜──── + ──, ⎢──────────⎥⎟\n",
       "⎝L⋅w₂   C   ⎣6⋅L⋅w₁ - 1⎦⎠"
      ]
     },
     "execution_count": 60,
     "metadata": {},
     "output_type": "execute_result"
    }
   ],
   "source": [
    "Y2, Cs"
   ]
  },
  {
   "cell_type": "code",
   "execution_count": 66,
   "metadata": {},
   "outputs": [
    {
     "data": {
      "text/latex": [
       "$$\\frac{\\left(w_{1} - w_{2}\\right) \\left(w_{1} + w_{2}\\right)}{2 \\left(13 w_{1} - 3 w_{2}\\right)}$$"
      ],
      "text/plain": [
       "(w₁ - w₂)⋅(w₁ + w₂)\n",
       "───────────────────\n",
       "  2⋅(13⋅w₁ - 3⋅w₂) "
      ]
     },
     "execution_count": 66,
     "metadata": {},
     "output_type": "execute_result"
    }
   ],
   "source": [
    "solns=solve([Y1-26, Y2-6], [C, L])\n",
    "solns[0][0]"
   ]
  },
  {
   "cell_type": "code",
   "execution_count": 68,
   "metadata": {},
   "outputs": [
    {
     "ename": "ValueError",
     "evalue": "The same variable should be used in all univariate expressions being plotted.",
     "output_type": "error",
     "traceback": [
      "\u001b[1;31m---------------------------------------------------------------------------\u001b[0m",
      "\u001b[1;31mValueError\u001b[0m                                Traceback (most recent call last)",
      "\u001b[1;32m<ipython-input-68-42a0cdbe54c1>\u001b[0m in \u001b[0;36m<module>\u001b[1;34m()\u001b[0m\n\u001b[0;32m      1\u001b[0m \u001b[0mw1\u001b[0m\u001b[1;33m=\u001b[0m\u001b[1;36m10e6\u001b[0m\u001b[1;33m\u001b[0m\u001b[0m\n\u001b[1;32m----> 2\u001b[1;33m \u001b[0mplot\u001b[0m\u001b[1;33m(\u001b[0m\u001b[0msolns\u001b[0m\u001b[1;33m[\u001b[0m\u001b[1;36m0\u001b[0m\u001b[1;33m]\u001b[0m\u001b[1;33m[\u001b[0m\u001b[1;36m0\u001b[0m\u001b[1;33m]\u001b[0m\u001b[1;33m)\u001b[0m\u001b[1;33m\u001b[0m\u001b[0m\n\u001b[0m",
      "\u001b[1;32m~\\AppData\\Local\\Continuum\\anaconda3\\lib\\site-packages\\sympy\\plotting\\plot.py\u001b[0m in \u001b[0;36mplot\u001b[1;34m(*args, **kwargs)\u001b[0m\n\u001b[0;32m   1281\u001b[0m             \u001b[1;32mif\u001b[0m \u001b[0mlen\u001b[0m\u001b[1;33m(\u001b[0m\u001b[0mfree\u001b[0m\u001b[1;33m)\u001b[0m \u001b[1;33m>\u001b[0m \u001b[1;36m1\u001b[0m\u001b[1;33m:\u001b[0m\u001b[1;33m\u001b[0m\u001b[0m\n\u001b[0;32m   1282\u001b[0m                 raise ValueError(\n\u001b[1;32m-> 1283\u001b[1;33m                     \u001b[1;34m'The same variable should be used in all '\u001b[0m\u001b[1;33m\u001b[0m\u001b[0m\n\u001b[0m\u001b[0;32m   1284\u001b[0m                     'univariate expressions being plotted.')\n\u001b[0;32m   1285\u001b[0m     \u001b[0mx\u001b[0m \u001b[1;33m=\u001b[0m \u001b[0mfree\u001b[0m\u001b[1;33m.\u001b[0m\u001b[0mpop\u001b[0m\u001b[1;33m(\u001b[0m\u001b[1;33m)\u001b[0m \u001b[1;32mif\u001b[0m \u001b[0mfree\u001b[0m \u001b[1;32melse\u001b[0m \u001b[0mSymbol\u001b[0m\u001b[1;33m(\u001b[0m\u001b[1;34m'x'\u001b[0m\u001b[1;33m)\u001b[0m\u001b[1;33m\u001b[0m\u001b[0m\n",
      "\u001b[1;31mValueError\u001b[0m: The same variable should be used in all univariate expressions being plotted."
     ]
    }
   ],
   "source": [
    "w1=10e6\n",
    "plot(solns[0][0])"
   ]
  },
  {
   "cell_type": "code",
   "execution_count": 70,
   "metadata": {},
   "outputs": [
    {
     "data": {
      "text/latex": [
       "$$\\frac{\\left(w_{1} - w_{2}\\right) \\left(w_{1} + w_{2}\\right)}{2 \\left(13 w_{1} - 3 w_{2}\\right)}$$"
      ],
      "text/plain": [
       "(w₁ - w₂)⋅(w₁ + w₂)\n",
       "───────────────────\n",
       "  2⋅(13⋅w₁ - 3⋅w₂) "
      ]
     },
     "execution_count": 70,
     "metadata": {},
     "output_type": "execute_result"
    }
   ],
   "source": [
    "solns[0][0].subs(w1, 10e6)"
   ]
  }
 ],
 "metadata": {
  "kernelspec": {
   "display_name": "Python 3",
   "language": "python",
   "name": "python3"
  },
  "language_info": {
   "codemirror_mode": {
    "name": "ipython",
    "version": 3
   },
   "file_extension": ".py",
   "mimetype": "text/x-python",
   "name": "python",
   "nbconvert_exporter": "python",
   "pygments_lexer": "ipython3",
   "version": "3.6.2"
  }
 },
 "nbformat": 4,
 "nbformat_minor": 2
}
