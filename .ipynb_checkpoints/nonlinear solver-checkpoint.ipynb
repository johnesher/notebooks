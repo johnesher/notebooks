{
 "cells": [
  {
   "cell_type": "code",
   "execution_count": 1,
   "metadata": {},
   "outputs": [
    {
     "ename": "SyntaxError",
     "evalue": "invalid syntax (<ipython-input-1-aa82bfbaf905>, line 1)",
     "output_type": "error",
     "traceback": [
      "\u001b[0;36m  File \u001b[0;32m\"<ipython-input-1-aa82bfbaf905>\"\u001b[0;36m, line \u001b[0;32m1\u001b[0m\n\u001b[0;31m    starting with series model, calc l and c\u001b[0m\n\u001b[0m                ^\u001b[0m\n\u001b[0;31mSyntaxError\u001b[0m\u001b[0;31m:\u001b[0m invalid syntax\n"
     ]
    }
   ],
   "source": [
    "starting with series model, calc l and c \n",
    "w1=2*3.1415*10e6\n",
    "x1=-14.1  # @10M\n",
    "w2=2*3.1415*15e6\n",
    "x2=15.4  # @15M\n",
    "c=(w1/w2**.5 - 1/w1) / (x1 - x2*w1/w2)\n",
    "#c=(w2/w1**.5 - 1/w2) / (x2 - x1*w2/w1)\n",
    "L = x2/w2 - 1/(c*w2**2)\n",
    "res_w = (1/(L*c))**.5\n",
    "res_f = 1 / ( 2 * 3.1415 * (L*c)**.5)\n",
    "L*1e9, c*1e9, res_f*1e-6"
   ]
  },
  {
   "cell_type": "code",
   "execution_count": null,
   "metadata": {},
   "outputs": [],
   "source": [
    "import numpy as np\n",
    "import scipy.optimize as opt\n",
    "from numpy import exp\n",
    "import timeit\n",
    "\n",
    "st1 = timeit.default_timer()\n",
    "\n",
    "def f(variables) :\n",
    "    (x,y) = variables\n",
    "\n",
    "    first_eq = x + y**2 -4\n",
    "    second_eq = exp(x) + x*y - 3\n",
    "    return [first_eq, second_eq]\n",
    "\n",
    "solution = opt.fsolve(f, (0.1,1) )\n",
    "print(solution)\n",
    "\n",
    "\n",
    "st2 = timeit.default_timer()\n",
    "print(\"RUN TIME : {0}\".format(st2-st1))"
   ]
  },
  {
   "cell_type": "code",
   "execution_count": null,
   "metadata": {},
   "outputs": [],
   "source": [
    "w1=2*3.1415*10e6\n",
    "x1=-14.1  # @10M\n",
    "w2=2*3.1415*15e6\n",
    "x2=15.4  # @15M\n",
    "\n",
    "def series_lc(variables) :\n",
    "    (l,c) = variables\n",
    "\n",
    "    first_eq = w1*l - 1/(w1*c)  - x1\n",
    "    second_eq = w2*l - 1/(w2*c) - x2\n",
    "    return [first_eq, second_eq]\n",
    "\n",
    "solution = opt.fsolve(series_lc, (1e-9,1e-9) )\n",
    "L, C = solution\n",
    "print('L=%.3fnH, C=%.3fpF' % (L*1e9, C*1e12))\n",
    "print('resonance %fMHz' % (1e-6/(2*3.14159*(L*C)**0.5)))"
   ]
  },
  {
   "cell_type": "code",
   "execution_count": null,
   "metadata": {},
   "outputs": [],
   "source": [
    "w1=2*3.1415*10e6\n",
    "x1=-27  # @10M\n",
    "y1 = -1 / x1\n",
    "\n",
    "w2=2*3.1415*20e6\n",
    "x2=6.6  # @20M\n",
    "y2 = -1 / x2\n",
    "\n",
    "def parallel_lc(variables) :\n",
    "    (l,c) = variables\n",
    "\n",
    "    first_eq = 1/(w1*l) - (w1*c)  - y1\n",
    "    second_eq = 1/(w2*l) - (w2*c) - y2\n",
    "    return [first_eq, second_eq]\n",
    "\n",
    "solution = opt.fsolve(parallel_lc, (1e-9,1e-9) )\n",
    "L, C = solution\n",
    "print('L=%.3fnH, C=%.3fpF' % (L*1e9, C*1e12))\n",
    "print('resonance %fMHz' % (1e-6/(2*3.14159*(L*C)**0.5)))\n",
    "y1"
   ]
  },
  {
   "cell_type": "code",
   "execution_count": null,
   "metadata": {},
   "outputs": [],
   "source": [
    "# Test parallel maths with the lc from series above\n",
    "L=473.659e-9\n",
    "C=362.881e-12\n",
    "Y10 = 1/(w1*L) - (w1*C)\n",
    "Y15 = 1/(w2*L) - (w2*C)\n",
    "1/Y10, 1/Y15"
   ]
  },
  {
   "cell_type": "markdown",
   "metadata": {},
   "source": [
    "Now let's try with complex numbers\n",
    "\n",
    "fsolve finds zeros of functions from $R^n \\to R$\n",
    "\n",
    "Try rewriting the function as $R^4 \\to R^4$"
   ]
  },
  {
   "cell_type": "code",
   "execution_count": null,
   "metadata": {},
   "outputs": [],
   "source": [
    "w1 = 2 * 3.1415 * 10e6\n",
    "x1 = 5 -14.1j  # @10M\n",
    "w2 = 2 * 3.1415 * 15e6\n",
    "x2 = 5 + 15.4j  # @15M\n",
    "\n",
    "def series_lc(variables) :\n",
    "    (lr, li, cr, ci) = variables\n",
    "    l = complex(lr, li)\n",
    "    c = complex(cr, ci)\n",
    "    first_eq = w1*l + 1/(w1*c)  - x1\n",
    "    second_eq = w2*l + 1/(w2*c) - x2\n",
    "    return [first_eq.real, first_eq.imag, second_eq.real, second_eq.imag]\n",
    "\n",
    "solution = opt.fsolve(series_lc, (0, 1e-9, 0, 1e-9))\n",
    "_, L, _, C = solution\n",
    "print('L=%.3fnH, C=%.3fpF' % (L*1e9, C*1e12))\n",
    "print('resonance %fMHz' % (1e-6/(2*3.14159*(L*C)**0.5)))"
   ]
  },
  {
   "cell_type": "code",
   "execution_count": null,
   "metadata": {},
   "outputs": [],
   "source": [
    "# parallel with complex nos - here the 5R makes a big difference\n",
    "# should probably include the 5R in series in the equations\n",
    "w1 = 2 * 3.1415 * 10e6\n",
    "x1 = 5 -27j  # @10M\n",
    "y1 = -1 / x1\n",
    "\n",
    "w2 = 2 * 3.1415 * 20e6\n",
    "x2 = 5 +6.6j  # @20M\n",
    "y2 = -1 / x2\n",
    "\n",
    "def parallel_lc(variables) :\n",
    "    (lr, li, cr, ci) = variables\n",
    "    l = complex(lr, li)\n",
    "    c = complex(cr, ci)\n",
    "    \n",
    "    first_eq = 1/(w1*l) + (w1*c) - y1\n",
    "    second_eq = 1/(w2*l) + (w2*c) - y2\n",
    "    return [first_eq.real, first_eq.imag, second_eq.real, second_eq.imag]\n",
    "\n",
    "solution = opt.fsolve(parallel_lc, (0, 1e-9, 0, 1e-9))\n",
    "print(solution)\n",
    "_, L, _, C = solution\n",
    "print('L=%.3fnH, C=%.3fpF' % (L*1e9, C*1e12))\n",
    "print('resonance %fMHz' % (1e-6/(2*3.14159*(L*C)**0.5)))"
   ]
  },
  {
   "cell_type": "code",
   "execution_count": null,
   "metadata": {},
   "outputs": [],
   "source": [
    "# parallel with complex nos and a 5R in series\n",
    "w1 = 2 * 3.1415 * 10e6\n",
    "x1 = 5 -27j  # @10M\n",
    "y1 = -1 / x1\n",
    "\n",
    "w2 = 2 * 3.1415 * 20e6\n",
    "x2 = 5 +6.6j  # @20M\n",
    "y2 = -1 / x2\n",
    "\n",
    "def parallel_lc(variables) :\n",
    "    # now with a 5R in series\n",
    "    (lr, li, cr, ci) = variables\n",
    "    l = complex(lr, li)\n",
    "    c = complex(cr, ci)\n",
    "    \n",
    "    first_eq = 1/(1/(w1*l) + (w1*c)) + 5 - x1\n",
    "    second_eq = 1/(1/(w2*l) + (w2*c)) + 5 - x2\n",
    "    return [first_eq.real, first_eq.imag, second_eq.real, second_eq.imag]\n",
    "\n",
    "solution = opt.fsolve(parallel_lc, (0, 1e-9, 0, 1e-9))  #fsolve\n",
    "print(solution)\n",
    "_, L, _, C = solution\n",
    "print('L=%.3fnH, C=%.3fpF' % (L*1e9, C*1e12))\n",
    "print('resonance %fMHz' % (1e-6/(2*3.14159*(L*C)**0.5)))"
   ]
  },
  {
   "cell_type": "code",
   "execution_count": null,
   "metadata": {
    "scrolled": true
   },
   "outputs": [],
   "source": [
    "import sympy as sp\n",
    "sp.init_printing()\n",
    "I = sp.I\n",
    "w1, x1, w2, x2 = sp.symbols('w1 x1 w2 x2')\n",
    "sz10 = w1*sl + 1/(w1*sc)\n",
    "sz15 = w2*sl + 1/(w2*sc)\n",
    "sL, sC = sp.solve([sz10-x1, sz15-x2], [sl, sc])[0]\n",
    "L = sL.subs({\n",
    "    w1:2 * 3.1415 * 10e6,\n",
    "    x1:5 -14.1j,\n",
    "    w2:2 * 3.1415 * 15e6,\n",
    "    x2:5 + 15.4j\n",
    "})\n",
    "C = sC.subs({\n",
    "    w1:2 * 3.1415 * 10e6,\n",
    "    x1:5 -14.1j,\n",
    "    w2:2 * 3.1415 * 15e6,\n",
    "    x2:5 + 15.4j\n",
    "})\n",
    "print('L=%.3fnH, C=%.3fpF' % (sp.im(L)*1e9, sp.im(C)*1e12))\n",
    "print('resonance %fMHz' % (1e-6/(2*3.14159*(sp.im(L) * sp.im(C))**0.5)))\n",
    "sL, sC"
   ]
  },
  {
   "cell_type": "code",
   "execution_count": null,
   "metadata": {},
   "outputs": [],
   "source": [
    "# x20 = 5 +6.6j\n",
    "# x10 = 5 -27j\n",
    "# w20 =  2 * np.pi * 20e6\n",
    "# w10 = 2 * np.pi * 10e6\n",
    "import numpy as np\n",
    "w10, x10, w20, x20 = sp.symbols('w10 x10 w20 x20')\n",
    "sy10 = 1 /(w10*sl) + (w10*sc)\n",
    "sz10 = 1 / sy10\n",
    "sy20 = 1 / (w20*sl) + (w20*sc)\n",
    "sz20 = 1 / sy20\n",
    "sL, sC = sp.solve([sz10-x10, sz20-x20], [sl, sc])[0]\n",
    "sL, sC\n",
    "#sp.solve([sz10-x10, sz20-x20], [sl, sc])\n",
    "L = sL.subs({\n",
    "    w10:2 * np.pi * 10e6,\n",
    "    x10:5 -27j,\n",
    "    w20:2 * np.pi * 20e6,\n",
    "    x20:5 +6.6j\n",
    "})\n",
    "C = sC.subs({\n",
    "    w10:2 * np.pi * 10e6,\n",
    "    x10:5 -27j,\n",
    "    w20:2 * np.pi * 20e6,\n",
    "    x20:5 +6.6j\n",
    "})\n",
    "print('L=%.3fnH, C=%.3fpF' % (sp.im(L)*1e9, sp.im(C)*1e12))\n",
    "print('resonance %fMHz' % (1e-6/(2*3.14159*(sp.im(L) * sp.im(C))**0.5)))"
   ]
  },
  {
   "cell_type": "code",
   "execution_count": null,
   "metadata": {},
   "outputs": [],
   "source": [
    "# series-parallel network\n",
    "w1 = 2 * 3.1415 * 10e6\n",
    "x1 = 2.5 -27j  # @10M\n",
    "\n",
    "w2 = 2 * 3.1415 * 15e6\n",
    "x2 = 2.5 + 15.4j  # @15M\n",
    "\n",
    "# THESE VALUES MADE UP TO TEST BUT IT DID NOT WORK...\n",
    "w3 = 2 * 3.1415 * 12e6\n",
    "x3 = 2.5 + 0j \n",
    "\n",
    "w4 = 2 * 3.1415 * 20e6\n",
    "x4 = 2.5 +6.6j  # @20M\n",
    "\n",
    "# series\n",
    "#cs = 361e-12\n",
    "#ls = 473e-9\n",
    "rs = 2.5\n",
    "# parallel\n",
    "#cp = 1211e-12\n",
    "#lp = 126e-9\n",
    "rp = 300  # FAR TOO DEPENDENT ON THIS VALUE\n",
    "\n",
    "rs = 2.5\n",
    "# parallel\n",
    "\n",
    "# Test with zs calculated from known ls and cs\n",
    "#x1, x2, x3, x4 = tuple([znet((w, 361e-12, 473e-9, 1211e-12, 126e-9)) for w in [w1, w2, w3, w4]])\n",
    "\n",
    "def znet(*estimates, w=0):\n",
    "    \"\"\"Impedance of the network at w rad/s\n",
    "    Given  series cs, ls in parallel with cp, lp, rp\"\"\"\n",
    "    #print('est', estimates, w)\n",
    "    _, cs, _, ls, _, cp, _, lp, rs, _, rp, _ = estimates\n",
    "    rs, rp = 2.5, 300\n",
    "    zcs = 1 / (w * cs * 1j)\n",
    "    zls = w * ls * 1j\n",
    "    zcp = 1 / (w * cp * 1j)\n",
    "    zlp = w * lp * 1j\n",
    "    ys = 1 / (zcs + zls)\n",
    "    ycp = 1 / zcp\n",
    "    ylp = 1 / zlp\n",
    "    yrp = 1 / rp\n",
    "    yt = ycp + ylp + ys + yrp\n",
    "    zt = 1 / yt\n",
    "    return rs + zt\n",
    "\n",
    "ws = np.linspace(10e6, 20e6, 6)\n",
    "xs = [znet(0, 361e-12, 0, 473e-9, 0, 1211e-12, 0, 126e-9, 2.5, 0, 300, 0, w=w_) for w_ in ws]\n",
    "xws = [(x, w) for x, w in zip(xs, ws)]\n",
    "\n",
    "def series_parallel_lc(variables):\n",
    "    #print('varis', variables)\n",
    "    res = [znet(*tuple(variables), w=w_) - x for x, w_ in xws]\n",
    "    #print('res', res)\n",
    "    #return res\n",
    "    return [n for r in res for n in (r.real, r.imag)]\n",
    "\n",
    "    \n",
    "# re, im complex \n",
    "initial_vec = (0, 362e-12, 0, 473e-9, 0, 1211e-12, 0, 126e-9, 2.5, 0, 300, 0)\n",
    "solution = opt.fsolve(series_parallel_lc, initial_vec)\n",
    "print(solution)\n",
    "#cs, ls, cp, lp = solution\n",
    "# print('ls=%.3fnH, Cs=%.3fpF,  lps=%.3fnH, cp=%.3fpF' % (ls*1e9, cs*1e12, lp*1e9, cp*1e12))\n",
    "# print('resonance %fMHz' % (1e-6/(2*3.14159*(ls*cs)**0.5)))\n",
    "# print('resonance %fMHz' % (1e-6/(2*3.14159*(lp*cp)**0.5)))\n"
   ]
  },
  {
   "cell_type": "code",
   "execution_count": null,
   "metadata": {},
   "outputs": [],
   "source": [
    "tuple(np.array((1,2,3,4,5,6)))\n"
   ]
  },
  {
   "cell_type": "code",
   "execution_count": null,
   "metadata": {},
   "outputs": [],
   "source": [
    "test = [(2.5-27j), (2.5+15.4j), (2.5+0j), (2.5+6.6j)]\n",
    "[n for t in test for n in (t.real, t.imag)]"
   ]
  },
  {
   "cell_type": "code",
   "execution_count": 16,
   "metadata": {},
   "outputs": [
    {
     "data": {
      "image/png": "[encoded data removed]",
      "text/plain": [
       "<matplotlib.figure.Figure at 0x7fba393a9898>"
      ]
     },
     "metadata": {},
     "output_type": "display_data"
    },
    {
     "data": {
      "text/plain": [
       "<sympy.plotting.plot.Plot at 0x7fba39530e80>"
      ]
     },
     "execution_count": 16,
     "metadata": {},
     "output_type": "execute_result"
    }
   ],
   "source": [
    "import sympy as sp\n",
    "f, cs, ls, cp, lp, rs, rp = sp.symbols('f, cs, ls, cp, lp, rs, rp')\n",
    "w = 2 * 3.14 * f\n",
    "zcs = 1 / (w * cs * 1j)\n",
    "zls = w * ls * 1j\n",
    "zcp = 1 / (w * cp * 1j)\n",
    "zlp = w * lp * 1j\n",
    "ys = 1 / (zcs + zls)\n",
    "ycp = 1 / zcp\n",
    "ylp = 1 / zlp\n",
    "yrp = 1 / rp\n",
    "yt = ycp + ylp + ys + yrp\n",
    "zt = 1 / yt\n",
    "zf = rs + zt\n",
    "zf\n",
    "\n",
    "zoff = zf.subs({\n",
    "    f:10e6,\n",
    "    cs:361e-12,\n",
    "    ls:473e-9,\n",
    "    cp:1211e-12,\n",
    "    lp:126e-9,\n",
    "    rs:2.5,\n",
    "    #rp:300\n",
    "})\n",
    "\n",
    "#dlp = sp.diff(zoff, f)\n",
    "#sp.plot(abs(dlp), (f, 10e6, 20e6))\n",
    "#sp.plot(abs(zoff), (lp, 1e-9, 1e-6))\n",
    "sp.plot(abs(zoff), (rp, 0.1, 1000), xscale='log')\n",
    "#sp.plot(abs(zoff), (f, 10e6, 20e6))\n",
    "# sp.plot(sp.re(zoff), (f, 10e6, 20e6))\n",
    "# sp.plot(sp.im(zoff), (f, 10e6, 20e6))"
   ]
  },
  {
   "cell_type": "code",
   "execution_count": 5,
   "metadata": {},
   "outputs": [
    {
     "data": {
      "text/plain": [
       "'1.1.1'"
      ]
     },
     "execution_count": 5,
     "metadata": {},
     "output_type": "execute_result"
    }
   ],
   "source": [
    "sp.__version__\n"
   ]
  }
 ],
 "metadata": {
  "kernelspec": {
   "display_name": "Python 3",
   "language": "python",
   "name": "python3"
  },
  "language_info": {
   "codemirror_mode": {
    "name": "ipython",
    "version": 3
   },
   "file_extension": ".py",
   "mimetype": "text/x-python",
   "name": "python",
   "nbconvert_exporter": "python",
   "pygments_lexer": "ipython3",
   "version": "3.4.3"
  }
 },
 "nbformat": 4,
 "nbformat_minor": 2
}
